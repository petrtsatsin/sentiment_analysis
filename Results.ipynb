{
 "cells": [
  {
   "cell_type": "code",
   "execution_count": 1,
   "metadata": {
    "collapsed": false
   },
   "outputs": [],
   "source": [
    "log = []\n",
    "for line in open(\"multichannel_binary.log\"):\n",
    "    log.append(line.strip())    "
   ]
  },
  {
   "cell_type": "code",
   "execution_count": 2,
   "metadata": {
    "collapsed": false
   },
   "outputs": [],
   "source": [
    "import re\n",
    "import numpy as np\n",
    "def parse_best_error(log, ps):\n",
    "    ret_val = []\n",
    "    for line in log:\n",
    "        if line.find(ps) != -1:\n",
    "            ret_val.append(float(\n",
    "                re.findall(\"[-+]?\\d+[\\.]?\\d+[eE]?[-+]?\\d*\", line)[0]))\n",
    "    return np.asarray(ret_val)        "
   ]
  },
  {
   "cell_type": "code",
   "execution_count": 3,
   "metadata": {
    "collapsed": false
   },
   "outputs": [],
   "source": [
    "best_dev_err = parse_best_error(log, \"best dev err\")"
   ]
  },
  {
   "cell_type": "code",
   "execution_count": 4,
   "metadata": {
    "collapsed": false
   },
   "outputs": [],
   "source": [
    "test_performance = parse_best_error(log, \"test perf\")"
   ]
  },
  {
   "cell_type": "code",
   "execution_count": 5,
   "metadata": {
    "collapsed": false
   },
   "outputs": [],
   "source": [
    "def mean_std(a):\n",
    "    return np.mean(a), np.std(a)"
   ]
  },
  {
   "cell_type": "code",
   "execution_count": 6,
   "metadata": {
    "collapsed": false
   },
   "outputs": [
    {
     "data": {
      "text/plain": [
       "(87.902675014228706, 0.1857716717159941)"
      ]
     },
     "execution_count": 6,
     "metadata": {},
     "output_type": "execute_result"
    }
   ],
   "source": [
    "#Mean and std of the \"best dev error: \"\n",
    "mean_std(best_dev_err)"
   ]
  },
  {
   "cell_type": "code",
   "execution_count": 7,
   "metadata": {
    "collapsed": false
   },
   "outputs": [
    {
     "data": {
      "text/plain": [
       "(87.7098551839034, 0.20494919379369003)"
      ]
     },
     "execution_count": 7,
     "metadata": {},
     "output_type": "execute_result"
    }
   ],
   "source": [
    "#Mean and std of the \"test performance: \"\n",
    "mean_std(test_performance)"
   ]
  },
  {
   "cell_type": "code",
   "execution_count": 8,
   "metadata": {
    "collapsed": false
   },
   "outputs": [],
   "source": [
    "fold = -1\n",
    "folds = {}\n",
    "def findAll(line):\n",
    "    #return re.findall(\"[-+]?\\d+[\\.]?\\d+[eE]?[-+]?\\d+\", line)\n",
    "    return re.findall(\"\\d+\\.?\\d*\", line)\n",
    "\n",
    "for line in log:\n",
    "    if line.find(\"fold\")!=-1:\n",
    "        fold = int(re.findall(r'\\d+', line)[0])\n",
    "    if line.find(\"epoch:\")!=-1 and fold > 0:\n",
    "        if fold in folds:\n",
    "            folds.get(fold).append(findAll(line))\n",
    "        else: \n",
    "            folds[fold] = [findAll(line)]       "
   ]
  },
  {
   "cell_type": "code",
   "execution_count": 9,
   "metadata": {
    "collapsed": false
   },
   "outputs": [],
   "source": [
    "train_perf = []\n",
    "val_perf = []\n",
    "for key in sorted(folds.iterkeys()):\n",
    "    if key < 8:\n",
    "        tpf = []\n",
    "        vpf = []\n",
    "        for l in folds[key]:\n",
    "            tpf.append(float(l[1]))\n",
    "            vpf.append(float(l[2]))\n",
    "        train_perf.append(tpf)\n",
    "        val_perf.append(vpf)"
   ]
  },
  {
   "cell_type": "code",
   "execution_count": 10,
   "metadata": {
    "collapsed": false
   },
   "outputs": [],
   "source": [
    "val_perf_m=np.matrix(val_perf)\n",
    "train_perf_m=np.matrix(train_perf)"
   ]
  },
  {
   "cell_type": "code",
   "execution_count": 11,
   "metadata": {
    "collapsed": true
   },
   "outputs": [],
   "source": [
    "import matplotlib\n",
    "import matplotlib.pyplot as plt\n",
    "%matplotlib inline "
   ]
  },
  {
   "cell_type": "code",
   "execution_count": 12,
   "metadata": {
    "collapsed": false
   },
   "outputs": [
    {
     "data": {
      "text/plain": [
       "<matplotlib.text.Text at 0x1073a9610>"
      ]
     },
     "execution_count": 12,
     "metadata": {},
     "output_type": "execute_result"
    },
    {
     "data": {
      "image/png": "[encoded data removed]",
      "text/plain": [
       "<matplotlib.figure.Figure at 0x10730de50>"
      ]
     },
     "metadata": {},
     "output_type": "display_data"
    }
   ],
   "source": [
    "x = np.arange(1, 51, 1);\n",
    "x.shape\n",
    "error_val = np.array(np.transpose(val_perf_m.std(0))).ravel()\n",
    "y_val= np.array(np.transpose(val_perf_m.mean(0))).ravel()\n",
    "error_train = np.array(np.transpose(train_perf_m.std(0))).ravel()\n",
    "y_train= np.array(np.transpose(train_perf_m.mean(0))).ravel()\n",
    "plt.errorbar(x, y_val, yerr=error_val)\n",
    "plt.errorbar(x, y_train, yerr=error_train)\n",
    "plt.title('Averave Learning curves')\n",
    "plt.ylabel('%')\n",
    "plt.xlabel('Epoch')"
   ]
  },
  {
   "cell_type": "code",
   "execution_count": null,
   "metadata": {
    "collapsed": true
   },
   "outputs": [],
   "source": []
  }
 ],
 "metadata": {
  "kernelspec": {
   "display_name": "Python 2",
   "language": "python",
   "name": "python2"
  },
  "language_info": {
   "codemirror_mode": {
    "name": "ipython",
    "version": 2
   },
   "file_extension": ".py",
   "mimetype": "text/x-python",
   "name": "python",
   "nbconvert_exporter": "python",
   "pygments_lexer": "ipython2",
   "version": "2.7.12"
  }
 },
 "nbformat": 4,
 "nbformat_minor": 1
}
